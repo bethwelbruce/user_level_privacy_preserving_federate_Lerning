{
  "cells": [
    {
      "cell_type": "markdown",
      "metadata": {
        "id": "e6f7b908"
      },
      "source": [
        "# Data Preparation:\n",
        "   - Split the CIFAR-10 dataset into multiple non-overlapping subsets, where each subset represents a different user or client. Users' data should not overlap, ensuring that individual user data remains private.\n"
      ],
      "id": "e6f7b908"
    },
    {
      "cell_type": "code",
      "execution_count": null,
      "metadata": {
        "id": "4ac6e715",
        "outputId": "19c7e007-b56c-4ec5-f271-e6bf45ecbb25"
      },
      "outputs": [
        {
          "name": "stderr",
          "output_type": "stream",
          "text": [
            "C:\\Users\\user\\anaconda3\\lib\\site-packages\\scipy\\__init__.py:155: UserWarning: A NumPy version >=1.18.5 and <1.25.0 is required for this version of SciPy (detected version 1.25.2\n",
            "  warnings.warn(f\"A NumPy version >={np_minversion} and <{np_maxversion}\"\n"
          ]
        },
        {
          "name": "stdout",
          "output_type": "stream",
          "text": [
            "Downloading data from https://www.cs.toronto.edu/~kriz/cifar-10-python.tar.gz\n",
            "170498071/170498071 [==============================] - 103s 1us/step\n"
          ]
        }
      ],
      "source": [
        "import tensorflow as tf\n",
        "import numpy as np\n",
        "\n",
        "# Load the CIFAR-10 dataset\n",
        "(x_train, y_train), (_, _) = tf.keras.datasets.cifar10.load_data()\n",
        "\n"
      ],
      "id": "4ac6e715"
    },
    {
      "cell_type": "code",
      "execution_count": null,
      "metadata": {
        "id": "3ef7169a"
      },
      "outputs": [],
      "source": [
        "# Define the number of users or clients\n",
        "num_users = 10  # You can adjust this number based on your requirements\n",
        "\n",
        "# Calculate the number of samples per user\n",
        "samples_per_user = len(x_train) // num_users\n",
        "\n",
        "# Initialize lists to hold user data\n",
        "user_data = []\n",
        "\n",
        "# Randomly shuffle the data\n",
        "np.random.seed(0)\n",
        "indices = np.random.permutation(len(x_train))\n",
        "x_train_shuffled = x_train[indices]\n",
        "y_train_shuffled = y_train[indices]\n",
        "\n",
        "# Split the data into user-specific subsets\n",
        "for i in range(num_users):\n",
        "    user_x = x_train_shuffled[i * samples_per_user : (i + 1) * samples_per_user]\n",
        "    user_y = y_train_shuffled[i * samples_per_user : (i + 1) * samples_per_user]\n",
        "    user_data.append((user_x, user_y))\n",
        "\n",
        "# Now, user_data is a list of tuples, with each tuple containing data and labels for a user.\n",
        "# Access user data using user_data[i], where 'i' is the user index.\n",
        "\n",
        "# For example, to access the data and labels for user 0:\n",
        "user_0_data, user_0_labels = user_data[0]\n"
      ],
      "id": "3ef7169a"
    },
    {
      "cell_type": "markdown",
      "metadata": {
        "id": "a9c9f8df"
      },
      "source": [
        "# Visualization"
      ],
      "id": "a9c9f8df"
    },
    {
      "cell_type": "code",
      "execution_count": null,
      "metadata": {
        "id": "5d2e0419",
        "outputId": "428b2f08-cc02-4995-afc6-196610cd4f74"
      },
      "outputs": [
        {
          "data": {
            "image/png": "[encoded data removed]",
            "text/plain": [
              "<Figure size 640x480 with 1 Axes>"
            ]
          },
          "metadata": {},
          "output_type": "display_data"
        }
      ],
      "source": [
        "import matplotlib.pyplot as plt\n",
        "import tensorflow as tf\n",
        "\n",
        "# Load the CIFAR-10 dataset\n",
        "(x_train, y_train), (_, _) = tf.keras.datasets.cifar10.load_data()\n",
        "\n",
        "# Define class names for CIFAR-10\n",
        "class_names = ['airplane', 'automobile', 'bird', 'cat', 'deer', 'dog', 'frog', 'horse', 'ship', 'truck']\n",
        "\n",
        "# Choose an index to visualize a specific image\n",
        "image_index = 0  # You can change this to view different images\n",
        "\n",
        "# Display the image\n",
        "plt.figure()\n",
        "plt.imshow(x_train[image_index])\n",
        "plt.title(class_names[y_train[image_index][0]])\n",
        "plt.show()\n"
      ],
      "id": "5d2e0419"
    },
    {
      "cell_type": "markdown",
      "metadata": {
        "id": "e44eeb0d"
      },
      "source": [
        "# **Client Initialization**:\n",
        "   - Initialize individual client models using the pre-trained base model or an architecture suitable for federated learning.\n"
      ],
      "id": "e44eeb0d"
    },
    {
      "cell_type": "code",
      "execution_count": null,
      "metadata": {
        "id": "dfec1903"
      },
      "outputs": [],
      "source": [
        "import tensorflow as tf\n",
        "\n",
        "# Define the base model architecture\n",
        "def create_base_model():\n",
        "    model = tf.keras.Sequential([\n",
        "        tf.keras.layers.Conv2D(32, (3, 3), activation='relu', input_shape=(32, 32, 3)),\n",
        "        tf.keras.layers.MaxPooling2D((2, 2)),\n",
        "        tf.keras.layers.Flatten(),\n",
        "        tf.keras.layers.Dense(128, activation='relu'),\n",
        "        tf.keras.layers.Dense(10, activation='softmax')  # 10 classes for CIFAR-10\n",
        "    ])\n",
        "    return model\n",
        "\n",
        "# Define the number of clients\n",
        "num_clients = 10  # You can adjust this based on your needs\n",
        "\n",
        "# Initialize a list to store client models\n",
        "client_models = []\n",
        "\n",
        "# Create a copy of the base model for each client\n",
        "for i in range(num_clients):\n",
        "    # Clone the base model to ensure separate instances\n",
        "    client_model = create_base_model()\n",
        "    client_models.append(client_model)\n",
        "\n",
        "# Now, client_models is a list containing individual client models, each initialized with the same architecture.\n"
      ],
      "id": "dfec1903"
    },
    {
      "cell_type": "markdown",
      "metadata": {
        "id": "7de71325"
      },
      "source": [
        "# **Privacy-Preserving Aggregation**:\n",
        "   - Implement privacy-preserving aggregation techniques to combine the model updates from multiple clients. This could involve secure aggregation protocols like secure multi-party computation (MPC) or federated averaging with added privacy mechanisms.\n"
      ],
      "id": "7de71325"
    },
    {
      "cell_type": "code",
      "execution_count": null,
      "metadata": {
        "id": "4a3a3099"
      },
      "outputs": [],
      "source": [
        "import numpy as np\n",
        "\n",
        "# Initialize client model updates (example updates for two clients)\n",
        "client_1_update = np.array([0.1, 0.2, 0.3, 0.4])\n",
        "client_2_update = np.array([0.2, 0.3, 0.4, 0.5])\n",
        "\n",
        "# Simulate secure aggregation by averaging client updates with added noise for privacy\n",
        "def secure_aggregation(client_updates, noise_scale):\n",
        "    num_clients = len(client_updates)\n",
        "    total_update = np.sum(client_updates, axis=0)\n",
        "\n",
        "    # Add noise for privacy\n",
        "    privacy_noise = np.random.normal(0, noise_scale, total_update.shape)\n",
        "\n",
        "    # Combine client updates with added noise\n",
        "    aggregated_update = total_update + privacy_noise\n",
        "\n",
        "    # Return the aggregated update\n",
        "    return aggregated_update\n",
        "\n",
        "# Set the noise scale (adjust this based on your privacy requirements)\n",
        "noise_scale = 0.05\n",
        "\n",
        "# Perform secure aggregation\n",
        "aggregated_update = secure_aggregation([client_1_update, client_2_update], noise_scale)\n",
        "\n",
        "# The 'aggregated_update' contains the privacy-preserving aggregated model update.\n",
        "# You can use this aggregated update to update the global model.\n"
      ],
      "id": "4a3a3099"
    },
    {
      "cell_type": "markdown",
      "metadata": {
        "id": "7e3309bf"
      },
      "source": [
        "# **Differential Privacy**:\n",
        "   - Apply differential privacy mechanisms during model training and aggregation. Ensure that the addition of noise to gradients or updates adheres to the privacy budget and safeguards individual user privacy.\n"
      ],
      "id": "7e3309bf"
    },
    {
      "cell_type": "code",
      "execution_count": null,
      "metadata": {
        "id": "1a010742"
      },
      "outputs": [],
      "source": [
        "import numpy as np\n",
        "\n",
        "# Define the privacy budget (epsilon)\n",
        "epsilon = 1.0\n",
        "\n",
        "# Define the sensitivity of the model updates (max change due to one user's data)\n",
        "sensitivity = 0.1  # Adjust based on your model and data\n",
        "\n",
        "# Simulate a client's model update (example)\n",
        "client_update = np.array([0.1, 0.2, 0.3, 0.4])  # Replace with a real client update\n",
        "\n",
        "# Calculate the scale of Laplace noise for differential privacy\n",
        "noise_scale = sensitivity / epsilon\n",
        "\n",
        "# Generate Laplace noise based on the noise scale\n",
        "laplace_noise = np.random.laplace(0, noise_scale, client_update.shape)\n",
        "\n",
        "# Add Laplace noise to the client's model update to ensure differential privacy\n",
        "private_update = client_update + laplace_noise\n",
        "\n",
        "# The 'private_update' contains the model update with added differential privacy noise.\n",
        "# You can use this private update in the federated learning process.\n",
        "\n",
        "# Repeat the process for each client's update, and then perform privacy-preserving aggregation.\n"
      ],
      "id": "1a010742"
    },
    {
      "cell_type": "markdown",
      "metadata": {
        "id": "03b740dd"
      },
      "source": [
        "# **Local Model Training**:\n",
        "   - On each client device, train the local model on the user's data using the federated learning framework. Use privacy-preserving techniques such as federated averaging with local differential privacy to ensure that user data is not exposed to the server.\n"
      ],
      "id": "03b740dd"
    },
    {
      "cell_type": "code",
      "execution_count": null,
      "metadata": {
        "id": "44689af7"
      },
      "outputs": [],
      "source": [
        "import numpy as np\n",
        "\n",
        "# Simulated CIFAR-10 data for a client\n",
        "client_data = {\n",
        "    \"x_train\": np.random.rand(100, 32, 32, 3),\n",
        "    \"y_train\": np.random.randint(0, 10, 100)\n",
        "}\n",
        "\n",
        "# Define the local model (simple example)\n",
        "def create_local_model():\n",
        "    model = tf.keras.Sequential([\n",
        "        tf.keras.layers.Flatten(input_shape=(32, 32, 3)),\n",
        "        tf.keras.layers.Dense(128, activation='relu'),\n",
        "        tf.keras.layers.Dense(10, activation='softmax')  # 10 classes for CIFAR-10\n",
        "    ])\n",
        "    return model\n",
        "\n",
        "# Simulated federated learning process with local differential privacy\n",
        "def federated_learning_with_local_dp(client_data, epsilon):\n",
        "    local_model = create_local_model()\n",
        "\n",
        "    # Train the local model with local differential privacy\n",
        "    x_train = client_data[\"x_train\"]\n",
        "    y_train = client_data[\"y_train\"]\n",
        "\n",
        "    # Calculate sensitivity (max change in weights)\n",
        "    sensitivity = 2.0 / len(x_train)\n",
        "\n",
        "    # Apply local differential privacy by adding Laplace noise to each weight array\n",
        "    for i in range(len(local_model.weights)):\n",
        "        noise_scale = sensitivity / (epsilon * len(local_model.weights))\n",
        "        noise = np.random.laplace(0, noise_scale, local_model.weights[i].shape)\n",
        "        local_model.weights[i] = local_model.weights[i] + noise\n",
        "\n",
        "    return local_model\n",
        "\n",
        "# Set the privacy budget (epsilon) - adjust based on your privacy requirements\n",
        "epsilon = 1.0\n",
        "\n",
        "# Perform federated learning with local differential privacy\n",
        "client_model = federated_learning_with_local_dp(client_data, epsilon)\n",
        "\n",
        "# The 'client_model' now contains the locally trained model with added local differential privacy.\n",
        "# You can use this model to compute the model update for federated aggregation.\n"
      ],
      "id": "44689af7"
    },
    {
      "cell_type": "markdown",
      "metadata": {
        "id": "6921f458"
      },
      "source": [
        "# **Secure Model Updates**:\n",
        "   - Securely transmit local model updates to the central server using encryption or secure channels to prevent eavesdropping.\n"
      ],
      "id": "6921f458"
    },
    {
      "cell_type": "code",
      "execution_count": null,
      "metadata": {
        "id": "70d67762",
        "outputId": "1573e8d3-908b-4975-f964-8835cfadf00e"
      },
      "outputs": [
        {
          "name": "stdout",
          "output_type": "stream",
          "text": [
            "Error: An exception occurred during the transmission - HTTPSConnectionPool(host='your_central_server.com', port=443): Max retries exceeded with url: /aggregation_endpoint (Caused by NewConnectionError('<urllib3.connection.HTTPSConnection object at 0x000001953A8C3670>: Failed to establish a new connection: [Errno 11001] getaddrinfo failed'))\n"
          ]
        }
      ],
      "source": [
        "import requests\n",
        "\n",
        "# Simulated local model update\n",
        "local_model_update = [0.1, -0.2, 0.05, 0.3]\n",
        "\n",
        "# Set the central server's URL for model aggregation\n",
        "server_url = \"https://your_central_server.com/aggregation_endpoint\"\n",
        "\n",
        "# Securely transmit the local model update to the central server using HTTPS\n",
        "try:\n",
        "    response = requests.post(server_url, json={\"model_update\": local_model_update}, verify=True)\n",
        "\n",
        "    # Check for a successful response\n",
        "    if response.status_code == 200:\n",
        "        print(\"Model update successfully transmitted to the central server.\")\n",
        "    else:\n",
        "        print(\"Error: Transmission failed with status code\", response.status_code)\n",
        "except requests.exceptions.RequestException as e:\n",
        "    print(\"Error: An exception occurred during the transmission -\", str(e))\n"
      ],
      "id": "70d67762"
    },
    {
      "cell_type": "markdown",
      "metadata": {
        "id": "56c55e5b"
      },
      "source": [
        "# **Aggregation and Model Update**:\n",
        "   - On the central server, aggregate the encrypted model updates or utilize privacy-preserving aggregation techniques to combine client contributions while preserving user privacy.\n"
      ],
      "id": "56c55e5b"
    },
    {
      "cell_type": "code",
      "execution_count": null,
      "metadata": {
        "id": "69d8323b"
      },
      "outputs": [],
      "source": [
        "import numpy as np\n",
        "\n",
        "# Simulated client model updates\n",
        "client_updates = [\n",
        "    np.array([0.1, -0.2, 0.05, 0.3]),\n",
        "    np.array([0.2, -0.1, 0.1, 0.4])\n",
        "]\n",
        "\n",
        "# Define the global model (simple example)\n",
        "global_model = np.array([0.0, 0.0, 0.0, 0.0])\n",
        "\n",
        "# Perform federated averaging to aggregate client contributions\n",
        "def federated_averaging(global_model, client_updates):\n",
        "    num_clients = len(client_updates)\n",
        "\n",
        "    # Sum up all client updates\n",
        "    total_update = np.sum(client_updates, axis=0)\n",
        "\n",
        "    # Calculate the new global model by averaging client contributions\n",
        "    new_global_model = global_model + (total_update / num_clients)\n",
        "\n",
        "    return new_global_model\n",
        "\n",
        "# Aggregate client contributions using federated averaging\n",
        "new_global_model = federated_averaging(global_model, client_updates)\n",
        "\n",
        "# The 'new_global_model' now contains the aggregated model update.\n",
        "\n"
      ],
      "id": "69d8323b"
    },
    {
      "cell_type": "markdown",
      "metadata": {
        "id": "64a103c8"
      },
      "source": [
        "# **Privacy Budget Monitoring**:\n",
        "   - Keep track of the privacy budget to ensure that the cumulative privacy loss does not exceed the predefined limits. Implement mechanisms to halt training or re-initialize noise addition when the budget is exhausted\n"
      ],
      "id": "64a103c8"
    },
    {
      "cell_type": "code",
      "execution_count": null,
      "metadata": {
        "id": "9501ce48",
        "outputId": "a7ec1556-38fb-478f-e9ed-fed57204494b"
      },
      "outputs": [
        {
          "name": "stdout",
          "output_type": "stream",
          "text": [
            "Round 1: Privacy budget OK\n",
            "Round 2: Privacy budget OK\n",
            "Round 3: Privacy budget OK\n",
            "Round 4: Privacy budget exhausted. Halting training.\n"
          ]
        }
      ],
      "source": [
        "class PrivacyBudgetMonitor:\n",
        "    def __init__(self, initial_budget):\n",
        "        self.privacy_budget = initial_budget\n",
        "\n",
        "    def check_privacy_budget(self, privacy_loss):\n",
        "        # Check if the privacy budget is exceeded\n",
        "        if self.privacy_budget - privacy_loss >= 0:\n",
        "            self.privacy_budget -= privacy_loss\n",
        "            return True  # Privacy budget not exhausted\n",
        "        else:\n",
        "            return False  # Privacy budget exhausted\n",
        "\n",
        "# Define the initial privacy budget (adjust based on your requirements)\n",
        "initial_privacy_budget = 1.0\n",
        "\n",
        "# Create a PrivacyBudgetMonitor\n",
        "privacy_monitor = PrivacyBudgetMonitor(initial_privacy_budget)\n",
        "\n",
        "# Simulated privacy losses for each round (replace with real values)\n",
        "privacy_losses = [0.2, 0.3, 0.4, 0.1, 0.5]\n",
        "\n",
        "# Iterate through rounds and check the privacy budget\n",
        "for round_num, privacy_loss in enumerate(privacy_losses):\n",
        "    if privacy_monitor.check_privacy_budget(privacy_loss):\n",
        "        print(f\"Round {round_num + 1}: Privacy budget OK\")\n",
        "    else:\n",
        "        print(f\"Round {round_num + 1}: Privacy budget exhausted. Halting training.\")\n",
        "        break\n"
      ],
      "id": "9501ce48"
    },
    {
      "cell_type": "markdown",
      "metadata": {
        "id": "4c1ea3fa"
      },
      "source": [
        "# **Dynamic Learning Rates**:\n",
        "   - Adjust learning rates or noise levels dynamically based on the quality of client contributions and privacy requirements to optimize the training process.\n"
      ],
      "id": "4c1ea3fa"
    },
    {
      "cell_type": "code",
      "execution_count": null,
      "metadata": {
        "id": "d633b474"
      },
      "outputs": [],
      "source": [
        "class LearningRateManager:\n",
        "    def __init__(self, initial_learning_rate):\n",
        "        self.learning_rate = initial_learning_rate\n",
        "\n",
        "    def update_learning_rate(self, client_contribution_quality, privacy_budget):\n",
        "        # Define your update strategy based on client quality and privacy budget\n",
        "        # Here, we decrease the learning rate when client contribution quality is low\n",
        "        # and when the privacy budget is exhausted.\n",
        "        if client_contribution_quality < 0.8 or privacy_budget <= 0:\n",
        "            self.learning_rate *= 0.5\n",
        "        else:\n",
        "            self.learning_rate = initial_learning_rate  # Reset to initial learning rate\n",
        "\n",
        "# Define the initial learning rate and other parameters (adjust based on your requirements)\n",
        "initial_learning_rate = 0.1\n",
        "initial_privacy_budget = 1.0\n",
        "\n",
        "# Create a LearningRateManager\n",
        "learning_rate_manager = LearningRateManager(initial_learning_rate)\n",
        "\n",
        "# Simulated client contribution quality and privacy budget\n",
        "client_contribution_quality = 0.75\n",
        "privacy_budget = initial_privacy_budget\n",
        "\n",
        "# Update the learning rate based on the client contribution quality and privacy budget\n",
        "learning_rate_manager.update_learning_rate(client_contribution_quality, privacy_budget)\n",
        "\n",
        "# The 'learning_rate_manager.learning_rate' now contains the updated learning rate.\n"
      ],
      "id": "d633b474"
    },
    {
      "cell_type": "markdown",
      "metadata": {
        "id": "1c653f31"
      },
      "source": [
        "# **Local Differential Privacy Parameters**:\n",
        "    - Allow each client to set local differential privacy parameters based on their privacy preferences, considering the trade-off between privacy and model accuracy.\n"
      ],
      "id": "1c653f31"
    },
    {
      "cell_type": "code",
      "execution_count": null,
      "metadata": {
        "id": "d1d30f75",
        "outputId": "d5d2dcac-6b16-4c1d-fb4f-a071334f8ad2"
      },
      "outputs": [
        {
          "name": "stdout",
          "output_type": "stream",
          "text": [
            "Client 1 - Epsilon: 1.0, Sensitivity: 0.1\n",
            "Client 2 - Epsilon: 0.5, Sensitivity: 0.2\n",
            "Client 3 - Epsilon: 0.2, Sensitivity: 0.3\n"
          ]
        }
      ],
      "source": [
        "class LocalDPSettings:\n",
        "    def __init__(self, epsilon, sensitivity):\n",
        "        self.epsilon = epsilon\n",
        "        self.sensitivity = sensitivity\n",
        "\n",
        "# Define a list of clients with their respective local differential privacy settings\n",
        "clients = [\n",
        "    LocalDPSettings(1.0, 0.1),  # Client 1 prefers strong privacy with low sensitivity\n",
        "    LocalDPSettings(0.5, 0.2),  # Client 2 prefers moderate privacy with moderate sensitivity\n",
        "    LocalDPSettings(0.2, 0.3)   # Client 3 prefers weaker privacy with higher sensitivity\n",
        "]\n",
        "\n",
        "# Simulated model training with local differential privacy\n",
        "for client_id, client_settings in enumerate(clients):\n",
        "    epsilon = client_settings.epsilon\n",
        "    sensitivity = client_settings.sensitivity\n",
        "\n",
        "    # Perform model training with these local differential privacy settings\n",
        "    # You would integrate these settings into your federated learning framework.\n",
        "\n",
        "    print(f\"Client {client_id + 1} - Epsilon: {epsilon}, Sensitivity: {sensitivity}\")\n"
      ],
      "id": "d1d30f75"
    },
    {
      "cell_type": "markdown",
      "metadata": {
        "id": "d4f1a641"
      },
      "source": [
        "# **User Control and Consent**:\n",
        "    - Implement user consent mechanisms, allowing users to control their participation in federated learning and choose the level of privacy they are comfortable with.\n"
      ],
      "id": "d4f1a641"
    },
    {
      "cell_type": "code",
      "execution_count": null,
      "metadata": {
        "colab": {
          "base_uri": "https://localhost:8080/"
        },
        "id": "88f38e2b",
        "outputId": "929e9129-7fbe-4fdd-f9d4-a53ad07027ae"
      },
      "outputs": [
        {
          "name": "stdout",
          "output_type": "stream",
          "text": [
            "Training for user user1 with consent\n",
            "Training for user user2 with consent\n",
            "Training for user user3 with consent\n",
            "Training for user user4 with consent\n"
          ]
        }
      ],
      "source": [
        "class UserConsentManager:\n",
        "    def __init__(self):\n",
        "        self.user_consent_dict = {}  # A dictionary to track user consent status\n",
        "\n",
        "    def get_user_consent(self, user_id):\n",
        "        return self.user_consent_dict.get(user_id, False)\n",
        "\n",
        "    def set_user_consent(self, user_id, consent_status):\n",
        "        self.user_consent_dict[user_id] = consent_status\n",
        "\n",
        "# Create a UserConsentManager\n",
        "consent_manager = UserConsentManager()\n",
        "\n",
        "# Simulated user consent for federated learning\n",
        "users = ['user1', 'user2', 'user3', 'user4']\n",
        "\n",
        "# Users provide their consent\n",
        "for user_id in users:\n",
        "    consent_manager.set_user_consent(user_id, True)  # Users provide consent (True) or withdraw (False)\n",
        "\n",
        "# In your federated learning setup, you can check user consent before training\n",
        "for user_id in users:\n",
        "    if consent_manager.get_user_consent(user_id):\n",
        "        # Perform federated learning with user's data\n",
        "        # Ensure that the user's privacy preferences are respected\n",
        "        print(f\"Training for user {user_id} with consent\")\n",
        "    else:\n",
        "        print(f\"User {user_id} has withdrawn consent. Skipping training.\")\n"
      ],
      "id": "88f38e2b"
    },
    {
      "cell_type": "markdown",
      "metadata": {
        "id": "45284ec6"
      },
      "source": [
        "# Model Evaluation**:\n",
        "    - Regularly evaluate the global model's performance on the CIFAR-10 dataset to ensure that privacy-preserving techniques do not significantly degrade model accuracy.\n"
      ],
      "id": "45284ec6"
    },
    {
      "cell_type": "code",
      "execution_count": 1,
      "metadata": {
        "colab": {
          "base_uri": "https://localhost:8080/"
        },
        "id": "73d6b356",
        "scrolled": true,
        "outputId": "42ee31f7-11eb-47a0-a87e-f051543cabb3"
      },
      "outputs": [
        {
          "output_type": "stream",
          "name": "stdout",
          "text": [
            "Downloading data from https://www.cs.toronto.edu/~kriz/cifar-10-python.tar.gz\n",
            "170498071/170498071 [==============================] - 10s 0us/step\n",
            "1563/1563 [==============================] - 21s 13ms/step - loss: 9.6568 - accuracy: 0.1007\n",
            "313/313 [==============================] - 2s 5ms/step - loss: 2.3029 - accuracy: 0.1000\n",
            "Round 5: Accuracy - 0.1000\n",
            "313/313 [==============================] - 2s 5ms/step - loss: 2.3029 - accuracy: 0.1000\n",
            "Round 10: Accuracy - 0.1000\n",
            "313/313 [==============================] - 1s 2ms/step - loss: 2.3029 - accuracy: 0.1000\n",
            "Round 15: Accuracy - 0.1000\n",
            "313/313 [==============================] - 1s 4ms/step - loss: 2.3029 - accuracy: 0.1000\n",
            "Round 20: Accuracy - 0.1000\n",
            "313/313 [==============================] - 1s 3ms/step - loss: 2.3029 - accuracy: 0.1000\n",
            "Round 25: Accuracy - 0.1000\n",
            "313/313 [==============================] - 1s 2ms/step - loss: 2.3029 - accuracy: 0.1000\n",
            "Round 30: Accuracy - 0.1000\n",
            "313/313 [==============================] - 1s 2ms/step - loss: 2.3029 - accuracy: 0.1000\n",
            "Round 35: Accuracy - 0.1000\n",
            "313/313 [==============================] - 1s 2ms/step - loss: 2.3029 - accuracy: 0.1000\n",
            "Round 40: Accuracy - 0.1000\n",
            "313/313 [==============================] - 1s 2ms/step - loss: 2.3029 - accuracy: 0.1000\n",
            "Round 45: Accuracy - 0.1000\n",
            "313/313 [==============================] - 1s 3ms/step - loss: 2.3029 - accuracy: 0.1000\n",
            "Round 50: Accuracy - 0.1000\n",
            "313/313 [==============================] - 1s 2ms/step - loss: 2.3029 - accuracy: 0.1000\n",
            "Final Evaluation Result:\n",
            "Accuracy - 0.1000\n"
          ]
        }
      ],
      "source": [
        "import tensorflow as tf\n",
        "\n",
        "# Load the CIFAR-10 dataset\n",
        "(_, _), (x_test, y_test) = tf.keras.datasets.cifar10.load_data()\n",
        "\n",
        "# Define the evaluation function\n",
        "def evaluate_global_model(model, x_test, y_test):\n",
        "  \"\"\"Evaluate a global model on the CIFAR-10 test dataset.\n",
        "\n",
        "  Args:\n",
        "    model: A TensorFlow Keras model.\n",
        "    x_test: A NumPy array containing the test dataset images.\n",
        "    y_test: A NumPy array containing the test dataset labels.\n",
        "\n",
        "  Returns:\n",
        "    A tuple of two floats, representing the test accuracy and loss.\n",
        "  \"\"\"\n",
        "\n",
        "  # Evaluate the model on the test dataset.\n",
        "  evaluation_result = model.evaluate(x_test, y_test)\n",
        "\n",
        "  return evaluation_result\n",
        "\n",
        "# Initialize the global model\n",
        "global_model = tf.keras.models.Sequential([\n",
        "  tf.keras.layers.Flatten(input_shape=(32, 32, 3)),\n",
        "  tf.keras.layers.Dense(128, activation='relu'),\n",
        "  tf.keras.layers.Dense(10, activation='softmax')# 10 classes for CIFAR-10\n",
        "])\n",
        "\n",
        "# Specify the path to the saved global model (adjust as needed)\n",
        "model_path = 'global_model.h5'\n",
        "\n",
        "# Check if the global model has been saved yet.\n",
        "if tf.io.gfile.exists(model_path):\n",
        "  # Load the global model from the saved file.\n",
        "  global_model.load_weights(model_path)\n",
        "else:\n",
        "  # Initialize the global model weights to random values.\n",
        "  global_model.compile(optimizer='adam', loss='sparse_categorical_crossentropy', metrics=['accuracy'])\n",
        "\n",
        "  # Load the CIFAR-10 dataset\n",
        "(x_train, y_train), (x_test, y_test) = tf.keras.datasets.cifar10.load_data()\n",
        "\n",
        "\n",
        "global_model.fit(x_train, y_train, epochs=1)\n",
        "global_model.save_weights(model_path)\n",
        "\n",
        "# Set the evaluation frequency (e.g., evaluate every 'n' rounds)\n",
        "evaluation_frequency = 5\n",
        "\n",
        "# Number of federated learning rounds (adjust as needed)\n",
        "num_rounds = 50\n",
        "\n",
        "# Evaluate the global model at regular intervals\n",
        "for round_num in range(1, num_rounds + 1):\n",
        "  if round_num % evaluation_frequency == 0:\n",
        "    evaluation_result = evaluate_global_model(global_model, x_test, y_test)\n",
        "    print(f\"Round {round_num}: Accuracy - {evaluation_result[1]:.4f}\")\n",
        "\n",
        "# Print a final evaluation result\n",
        "final_evaluation_result = evaluate_global_model(global_model, x_test, y_test)\n",
        "print(\"Final Evaluation Result:\")\n",
        "print(f\"Accuracy - {final_evaluation_result[1]:.4f}\")\n"
      ],
      "id": "73d6b356"
    },
    {
      "cell_type": "code",
      "execution_count": null,
      "metadata": {
        "id": "e23ea919"
      },
      "outputs": [],
      "source": [],
      "id": "e23ea919"
    }
  ],
  "metadata": {
    "colab": {
      "provenance": []
    },
    "kernelspec": {
      "display_name": "Python 3 (ipykernel)",
      "language": "python",
      "name": "python3"
    },
    "language_info": {
      "codemirror_mode": {
        "name": "ipython",
        "version": 3
      },
      "file_extension": ".py",
      "mimetype": "text/x-python",
      "name": "python",
      "nbconvert_exporter": "python",
      "pygments_lexer": "ipython3",
      "version": "3.9.13"
    }
  },
  "nbformat": 4,
  "nbformat_minor": 5
}